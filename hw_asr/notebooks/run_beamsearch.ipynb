{
 "cells": [
  {
   "cell_type": "code",
   "execution_count": 1,
   "metadata": {},
   "outputs": [],
   "source": [
    "import torch"
   ]
  },
  {
   "cell_type": "code",
   "execution_count": 10,
   "metadata": {},
   "outputs": [
    {
     "data": {
      "text/plain": [
       "torch.Size([10, 32, 32, 724])"
      ]
     },
     "execution_count": 10,
     "metadata": {},
     "output_type": "execute_result"
    }
   ],
   "source": [
    "a = torch.rand(10,32,32,724)\n",
    "a.size()"
   ]
  },
  {
   "cell_type": "code",
   "execution_count": 19,
   "metadata": {},
   "outputs": [],
   "source": [
    "a1 = a.view(10,724,-1)\n",
    "a2 = a.permute(0, 3, 2, 1).contiguous().view(10, 724,-1)"
   ]
  },
  {
   "cell_type": "code",
   "execution_count": 20,
   "metadata": {},
   "outputs": [
    {
     "data": {
      "text/plain": [
       "tensor([[0.3128, 0.6432, 0.2044,  ..., 0.4609, 0.1149, 0.0725],\n",
       "        [0.4420, 0.7774, 0.9641,  ..., 0.4218, 0.7264, 0.4721],\n",
       "        [0.2556, 0.9986, 0.9865,  ..., 0.2702, 0.8619, 0.7171],\n",
       "        ...,\n",
       "        [0.2998, 0.6161, 0.4779,  ..., 0.1241, 0.7411, 0.6344],\n",
       "        [0.7895, 0.5082, 0.4886,  ..., 0.4913, 0.7789, 0.1114],\n",
       "        [0.6683, 0.4085, 0.2144,  ..., 0.6787, 0.8155, 0.3205]])"
      ]
     },
     "execution_count": 20,
     "metadata": {},
     "output_type": "execute_result"
    }
   ],
   "source": [
    "a2[0]"
   ]
  },
  {
   "cell_type": "code",
   "execution_count": 21,
   "metadata": {},
   "outputs": [
    {
     "data": {
      "text/plain": [
       "tensor([[0.3128, 0.4420, 0.2556,  ..., 0.6442, 0.0493, 0.8859],\n",
       "        [0.8154, 0.2071, 0.7945,  ..., 0.9281, 0.9810, 0.0763],\n",
       "        [0.4152, 0.9955, 0.9725,  ..., 0.3026, 0.4093, 0.5279],\n",
       "        ...,\n",
       "        [0.5636, 0.3670, 0.3816,  ..., 0.6670, 0.1086, 0.4596],\n",
       "        [0.3493, 0.5862, 0.7072,  ..., 0.5595, 0.9886, 0.3119],\n",
       "        [0.2774, 0.2606, 0.8734,  ..., 0.6344, 0.1114, 0.3205]])"
      ]
     },
     "execution_count": 21,
     "metadata": {},
     "output_type": "execute_result"
    }
   ],
   "source": [
    "a1[0]"
   ]
  },
  {
   "cell_type": "code",
   "execution_count": null,
   "metadata": {},
   "outputs": [],
   "source": []
  }
 ],
 "metadata": {
  "kernelspec": {
   "display_name": "Python 3.9.11 64-bit",
   "language": "python",
   "name": "python3"
  },
  "language_info": {
   "codemirror_mode": {
    "name": "ipython",
    "version": 3
   },
   "file_extension": ".py",
   "mimetype": "text/x-python",
   "name": "python",
   "nbconvert_exporter": "python",
   "pygments_lexer": "ipython3",
   "version": "3.9.11"
  },
  "orig_nbformat": 4,
  "vscode": {
   "interpreter": {
    "hash": "aee8b7b246df8f9039afb4144a1f6fd8d2ca17a180786b69acc140d282b71a49"
   }
  }
 },
 "nbformat": 4,
 "nbformat_minor": 2
}
