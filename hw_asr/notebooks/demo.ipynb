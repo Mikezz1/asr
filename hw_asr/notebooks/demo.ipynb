{
 "cells": [
  {
   "cell_type": "code",
   "execution_count": null,
   "metadata": {},
   "outputs": [],
   "source": [
    "! ../setup.sh"
   ]
  },
  {
   "cell_type": "code",
   "execution_count": null,
   "metadata": {},
   "outputs": [],
   "source": [
    "! python asr/train.py --resume='final_model/model_best-6.pth' \\\n",
    "                --config='../configs/ds2-librispeech-batch-overfit.json'"
   ]
  },
  {
   "cell_type": "code",
   "execution_count": null,
   "metadata": {},
   "outputs": [],
   "source": [
    "! python asr/test.py --resume='final_model/model_best-6.pth' \\\n",
    "                --config='../configs/ds2-librispeech-batch-overfit.json' \\\n",
    "                --batch-size=4 \\\n",
    "                --evaluate=True \\\n",
    "                --beam_size=100\\\n",
    "                --beam_search_type='custom'"
   ]
  }
 ],
 "metadata": {
  "kernelspec": {
   "display_name": "Python 3.9.11 64-bit",
   "language": "python",
   "name": "python3"
  },
  "language_info": {
   "name": "python",
   "version": "3.9.11"
  },
  "orig_nbformat": 4,
  "vscode": {
   "interpreter": {
    "hash": "aee8b7b246df8f9039afb4144a1f6fd8d2ca17a180786b69acc140d282b71a49"
   }
  }
 },
 "nbformat": 4,
 "nbformat_minor": 2
}
